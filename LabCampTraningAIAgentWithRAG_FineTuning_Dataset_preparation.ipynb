{
  "cells": [
    {
      "cell_type": "markdown",
      "metadata": {
        "id": "-xaPLA60XIcj"
      },
      "source": [
        "# LabCamp Training AI Agent with RAG - FineTuning - Dataset Preparation\n",
        "\n",
        "## Descrizione\n",
        "\n",
        "Questo notebook Python è stato sviluppato per preparare un dataset per il fine-tuning di un modello LLM si OpenAI come **GPT-4o-mini**.\n",
        "\n",
        "Il modello è viene addestrato con esempi di conversazione pertinenti.\n",
        "\n",
        "L'intero processo include:\n",
        "\n",
        "- Estrazione del testo da un file PDF utilizzando **Azure AI Document Intelligence**\n",
        "- Generazione automatica di esempi di conversazione basati sul contenuto estratto\n",
        "- Validazione del dataset e stima dei costi di addestramento su OpenAI\n",
        "\n",
        "## Installazione delle dipendenze\n",
        "\n",
        "Lo script richiede alcune librerie specifiche. È possibile installarle eseguendo: pip install ...\n",
        "\n",
        "## Prerequisiti\n",
        "\n",
        "1. Rinominare il file in doc.pdf o modificare l'opportuna variabile nel codice"
      ]
    },
    {
      "cell_type": "code",
      "execution_count": 1,
      "metadata": {
        "colab": {
          "base_uri": "https://localhost:8080/"
        },
        "id": "ZLyleLPGJbQe",
        "outputId": "a203d7c2-7fac-49d9-de26-63fb10117a4b"
      },
      "outputs": [
        {
          "name": "stdout",
          "output_type": "stream",
          "text": [
            "Note: you may need to restart the kernel to use updated packages.\n"
          ]
        },
        {
          "name": "stderr",
          "output_type": "stream",
          "text": [
            "\n",
            "[notice] A new release of pip is available: 24.3.1 -> 25.0.1\n",
            "[notice] To update, run: python.exe -m pip install --upgrade pip\n"
          ]
        }
      ],
      "source": [
        "pip install --upgrade --quiet  langchain langchain-community azure-ai-documentintelligence openai tiktoken python-dotenv"
      ]
    },
    {
      "cell_type": "code",
      "execution_count": 4,
      "metadata": {
        "id": "OY3NDK3eJZ_8"
      },
      "outputs": [],
      "source": [
        "import dotenv, os\n",
        "dotenv.load_dotenv(override=True)\n",
        "\n",
        "endpoint = \"https://labcamp-document-intelligence.cognitiveservices.azure.com/\"\n",
        "documentPath = 'doc.pdf'\n",
        "\n",
        "OPENAI_API_KEY = os.getenv(\"OPENAI_API_KEY\")\n",
        "DOC_INTELLIGENCE_KEY = os.getenv(\"DOC_INTELLIGENCE_KEY\")"
      ]
    },
    {
      "cell_type": "markdown",
      "metadata": {
        "id": "8PwhFXO1V7Cp"
      },
      "source": [
        "# Lettura documento\n",
        "\n",
        "Lettura del documento che fungirà da knowledge source/contesto per creare il dataset in modo sintetico.\n",
        "\n",
        "Il documento verrà letto tramite l'ausilio del tool Azure AI Document Intelligence."
      ]
    },
    {
      "cell_type": "code",
      "execution_count": null,
      "metadata": {
        "colab": {
          "base_uri": "https://localhost:8080/",
          "height": 1000
        },
        "id": "0spamvxSIUhD",
        "outputId": "f110f161-90bc-4df4-9565-01c72e86a0e7"
      },
      "outputs": [
        {
          "name": "stdout",
          "output_type": "stream",
          "text": [
            "File read successfully with Azure Document Intelligence.\n",
            "Markdown file saved as context.txt\n"
          ]
        }
      ],
      "source": [
        "# Import libraries\n",
        "import os\n",
        "from langchain_community.document_loaders import AzureAIDocumentIntelligenceLoader\n",
        "\n",
        "def format_docs(docs):\n",
        "    return \"\\n\\n\".join(doc.page_content for doc in docs if not isinstance(doc, dict) and hasattr(doc, 'page_content'))\n",
        "\n",
        "# Create Document Intelligence client\n",
        "loader = AzureAIDocumentIntelligenceLoader(\n",
        "    api_key=DOC_INTELLIGENCE_KEY,\n",
        "    api_endpoint=endpoint,\n",
        "    api_version='2024-02-29-preview',\n",
        "    file_path=documentPath,\n",
        "    api_model='prebuilt-layout',\n",
        "    mode='markdown'\n",
        ")\n",
        "pages = loader.load()\n",
        "full_text = format_docs(pages)\n",
        "file_metadata = [page.metadata for page in pages]\n",
        "print('File read successfully with Azure Document Intelligence.')\n",
        "print(f\"Here's the full content in format {full_text}:\\n\")\n",
        "\n",
        "# Save to file .txt\n",
        "context_file_path = 'context.txt'\n",
        "with open(context_file_path, \"w\", encoding='utf-8') as file:\n",
        "  file.write(full_text)\n",
        "\n",
        "print(f\"Markdown file saved as {context_file_path}\")"
      ]
    },
    {
      "cell_type": "markdown",
      "metadata": {
        "id": "QjfBmDAXWes0"
      },
      "source": [
        "# Prompt creazione dataset"
      ]
    },
    {
      "cell_type": "code",
      "execution_count": 10,
      "metadata": {
        "id": "xaJkUP25NlI8"
      },
      "outputs": [],
      "source": [
        "system_prompt = \"L'assistente è un chatbot esperto del Festival di Sanremo che fornisce risposte formali e dettagliate.\"\n",
        "\n",
        "prompt = \"\"\"\n",
        "ROLE\n",
        "Sei un generatore di esempi di training per fine tuning esperto di sanremo.\n",
        "Devi creare {{num_examples}} esempi con un formato simile a ESEMPI\n",
        "Non mostrare l'output. Devi generare un file di testo con tutti i risultati\n",
        "\n",
        "TASK\n",
        "Gli esempi devono essere formali, devi essere educato e gentile.\n",
        "In allegato hai le informazioni che devi utilizzare per generare gli esempi.\n",
        "\n",
        "Devi coprire tutti i temi utilizzati nel documento.\n",
        "Cerca di fare domande varie, anche in forma diversa.\n",
        "\n",
        "====ESEMPI\n",
        "{\"messages\": [{\"role\": \"system\", \"content\": \"L'assistente è un chatbot esperto del Festival di Sanremo che fornisce risposte formali e dettagliate.\"}, {\"role\": \"user\", \"content\": \"Chi ha vinto il Festival di Sanremo 2024?\"}, {\"role\": \"assistant\", \"content\": \"Il vincitore del Festival di Sanremo 2024 è stato Angelina Mango con il brano 'La noia'.\"}]}\n",
        "{\"messages\": [{\"role\": \"system\", \"content\": \"L'assistente è un chatbot esperto del Festival di Sanremo che fornisce risposte formali e dettagliate.\"}, {\"role\": \"user\", \"content\": \"Quale artista ha ricevuto il Premio della Critica nel 2024?\"}, {\"role\": \"assistant\", \"content\": \"Il Premio della Critica del Festival di Sanremo 2024 è stato assegnato a Loredana Bertè.\"}]}\n",
        "{\"messages\": [{\"role\": \"system\", \"content\": \"L'assistente è un chatbot esperto del Festival di Sanremo che fornisce risposte formali e dettagliate.\"}, {\"role\": \"user\", \"content\": \"Quanti partecipanti hanno preso parte al Festival di Sanremo 2024?\"}, {\"role\": \"assistant\", \"content\": \"Al Festival di Sanremo 2024 hanno partecipato 30 artisti in gara.\"}]}\n",
        "===\n",
        "<CONTEXT>\n",
        "{{context}}\n",
        "</CONTEXT>\n",
        "\"\"\""
      ]
    },
    {
      "cell_type": "markdown",
      "metadata": {
        "id": "cX8krXQ0WkHm"
      },
      "source": [
        "# Creazione dataset\n",
        "\n",
        "Tramite le opportune variabili è possibile regolare il numero di esempi da creare per il dataset.\n",
        "\n",
        "Lo step produrrà un file `dataset.jsonl`"
      ]
    },
    {
      "cell_type": "code",
      "execution_count": null,
      "metadata": {
        "colab": {
          "base_uri": "https://localhost:8080/"
        },
        "id": "zvgYQPJgJ_o3",
        "outputId": "6acebcce-51c4-4156-e96d-6b84fc2e3496"
      },
      "outputs": [
        {
          "name": "stdout",
          "output_type": "stream",
          "text": [
            "Context letto correttamente.\n",
            "{\"messages\": [{\"role\": \"system\", \"content\": \"L'assistente è un chatbot esperto del Festival di Sanremo che fornisce risposte formali e dettagliate.\"}, {\"role\": \"user\", \"content\": \"Quando si è svolto il Festival di Sanremo 2024?\"}, {\"role\": \"assistant\", \"content\": \"Il settantaquattresimo Festival di Sanremo si è svolto dal 6 al 10 febbraio 2024.\"}]}\n",
            "==================================================\n",
            "{\"messages\": [{\"role\": \"system\", \"content\": \"L'assistente è un chatbot esperto del Festival di Sanremo che fornisce risposte formali e dettagliate.\"}, {\"role\": \"user\", \"content\": \"Qual è stata la durata del Festival di Sanremo 2024?\"}, {\"role\": \"assistant\", \"content\": \"Il settantaquattresimo Festival di Sanremo si è svolto dal 6 al 10 febbraio 2024, per un totale di cinque serate.\"}]}\n",
            "==================================================\n",
            "{\"messages\": [{\"role\": \"system\", \"content\": \"L'assistente è un chatbot esperto del Festival di Sanremo che fornisce risposte formali e dettagliate.\"}, {\"role\": \"user\", \"content\": \"Chi ha condotto il Festival di Sanremo 2024?\"}, {\"role\": \"assistant\", \"content\": \"Il Festival di Sanremo 2024 è stato condotto da Amadeus, che ha ricoperto questo ruolo per il quinto anno consecutivo, con l'affiancamento di vari co-conduttori tra cui Marco Mengoni, Giorgia, Teresa Mannino, Lorella Cuccarini e Fiorello.\"}]}\n",
            "==================================================\n",
            "{\"messages\": [{\"role\": \"system\", \"content\": \"L'assistente è un chatbot esperto del Festival di Sanremo che fornisce risposte formali e dettagliate.\"}, {\"role\": \"user\", \"content\": \"Chi è il direttore artistico del Festival di Sanremo nel 2024?\"}, {\"role\": \"assistant\", \"content\": \"Il direttore artistico del Festival di Sanremo 2024 è stato Amadeus, che ha ricoperto il ruolo per il quinto anno consecutivo.\"}]}\n",
            "==================================================\n",
            "{\"messages\": [{\"role\": \"system\", \"content\": \"L'assistente è un chatbot esperto del Festival di Sanremo che fornisce risposte formali e dettagliate.\"}, {\"role\": \"user\", \"content\": \"Quali sono le date del Festival di Sanremo 2024?\"}, {\"role\": \"assistant\", \"content\": \"Il settantaquattresimo Festival di Sanremo si è svolto al Teatro Ariston di Sanremo dal 6 al 10 febbraio 2024.\"}]}\n",
            "==================================================\n",
            "File JSONL creato con 5 esempi: dataset.jsonl\n",
            "==================================================\n"
          ]
        }
      ],
      "source": [
        "import asyncio\n",
        "import json\n",
        "from openai import AsyncOpenAI\n",
        "\n",
        "input_file = \"context.txt\"\n",
        "output_file = \"dataset.jsonl\"\n",
        "\n",
        "total_examples = 5  # Numero totale di esempi da generare\n",
        "num_requests   = 5    # Numero di richieste parallele (ciascuna genererà una parte degli esempi)\n",
        "\n",
        "openai_model=\"gpt-4o-mini\"\n",
        "\n",
        "client = AsyncOpenAI(api_key=OPENAI_API_KEY)\n",
        "\n",
        "def read_context(file_path):\n",
        "    \"\"\"Legge il contenuto del file di contesto in UTF-8.\"\"\"\n",
        "    with open(file_path, \"r\", encoding=\"utf-8\") as f:\n",
        "        return f.read()\n",
        "\n",
        "async def call_openai_api(prompt_text):\n",
        "    \"\"\"\n",
        "    Effettua una richiesta all'API di OpenAI utilizzando il prompt fornito.\n",
        "    Viene inviato un messaggio di sistema seguito dal messaggio utente contenente il prompt.\n",
        "    \"\"\"\n",
        "    try:\n",
        "        chat_completion = await client.chat.completions.create(\n",
        "            model=openai_model,\n",
        "            temperature=1.0,\n",
        "            messages=[\n",
        "                {\"role\": \"system\", \"content\": system_prompt},\n",
        "                {\"role\": \"user\", \"content\": prompt_text}\n",
        "            ]\n",
        "        )\n",
        "        result = chat_completion.choices[0].message.content.strip()\n",
        "        # Rimuove eventuali righe vuote\n",
        "        result = \"\\n\".join([line for line in result.splitlines() if line.strip() != \"\"])\n",
        "        print(result)\n",
        "        print(\"=\"*50)\n",
        "        return result\n",
        "    except Exception as e:\n",
        "        print(f\"❌ Errore nella richiesta API: {e}\")\n",
        "        return \"\"\n",
        "\n",
        "async def process_batches(prompt_template, total_examples, num_requests):\n",
        "    \"\"\"\n",
        "    Divide il numero totale di esempi da generare tra 'num_requests' richieste in parallelo.\n",
        "    Per ciascuna richiesta viene sostituito il placeholder {{num_examples}} con il numero di esempi\n",
        "    da generare in quel batch.\n",
        "    \"\"\"\n",
        "    tasks = []\n",
        "    base = total_examples // num_requests\n",
        "    remainder = total_examples % num_requests\n",
        "    # Distribuisce il resto (se presente) fra le prime richieste\n",
        "    batch_sizes = [base + 1 if i < remainder else base for i in range(num_requests)]\n",
        "\n",
        "    for batch_size in batch_sizes:\n",
        "        prompt_batch = prompt_template.replace(\"{{num_examples}}\", str(batch_size))\n",
        "        tasks.append(call_openai_api(prompt_batch))\n",
        "\n",
        "    responses = await asyncio.gather(*tasks)\n",
        "    return responses\n",
        "\n",
        "def parse_responses(responses):\n",
        "    \"\"\"\n",
        "    Parsa le risposte ottenute, aspettandosi che ogni riga contenga un oggetto JSON.\n",
        "    Se una riga non è in formato JSON, viene loggato l'errore.\n",
        "    \"\"\"\n",
        "    examples = []\n",
        "    for response in responses:\n",
        "        if response:\n",
        "            lines = response.split(\"\\n\")\n",
        "            for line in lines:\n",
        "                line = line.strip()\n",
        "                if line:\n",
        "                    try:\n",
        "                        obj = json.loads(line)\n",
        "                        examples.append(obj)\n",
        "                    except Exception as e:\n",
        "                        print(f\"Errore di parsing JSON: {e} in line: {line}\")\n",
        "    return examples\n",
        "\n",
        "def save_examples_to_jsonl(examples, output_file):\n",
        "    \"\"\"Salva gli esempi in un file JSONL (un oggetto JSON per riga).\"\"\"\n",
        "    with open(output_file, \"w\", encoding=\"utf-8\") as f:\n",
        "        for example in examples:\n",
        "            f.write(json.dumps(example, ensure_ascii=False) + \"\\n\")\n",
        "\n",
        "async def main():\n",
        "\n",
        "    context = read_context(input_file)\n",
        "    print(\"Context letto correttamente.\")\n",
        "\n",
        "    prompt_with_context = prompt.replace(\"{{context}}\", context)\n",
        "\n",
        "    responses = await process_batches(prompt_with_context, total_examples, num_requests)\n",
        "\n",
        "    examples = parse_responses(responses)\n",
        "    save_examples_to_jsonl(examples, output_file)\n",
        "\n",
        "    print(f\"File JSONL creato con {len(examples)} esempi: {output_file}\")\n",
        "    print(\"=\"*50)\n",
        "\n",
        "# Esegue lo script\n",
        "await main()"
      ]
    },
    {
      "cell_type": "code",
      "execution_count": 12,
      "metadata": {
        "colab": {
          "base_uri": "https://localhost:8080/"
        },
        "id": "7GVl7hFkSYzR",
        "outputId": "e08a81c1-6e3c-47df-a043-afa43aa1a89e"
      },
      "outputs": [
        {
          "name": "stdout",
          "output_type": "stream",
          "text": [
            "{\"messages\": [{\"role\": \"system\", \"content\": \"L'assistente è un chatbot esperto del Festival di Sanremo che fornisce risposte formali e dettagliate.\"}, {\"role\": \"user\", \"content\": \"Chi ha condotto il Festival di Sanremo 2024?\"}, {\"role\": \"assistant\", \"content\": \"Il Festival di Sanremo 2024 è stato condotto da Amadeus, che ha ricoperto anche il ruolo di direttore artistico. Amadeus è stato affiancato da vari co-conduttori tra cui Marco Mengoni, Giorgia, Teresa Mannino, Lorella Cuccarini e Fiorello.\"}]}\n",
            "{\"messages\": [{\"role\": \"system\", \"content\": \"L'assistente è un chatbot esperto del Festival di Sanremo che fornisce risposte formali e dettagliate.\"}, {\"role\": \"user\", \"content\": \"Quali sono le date del Festival di Sanremo 2024?\"}, {\"role\": \"assistant\", \"content\": \"Il settantaquattresimo Festival di Sanremo si è svolto dal 6 al 10 febbraio 2024.\"}]}\n",
            "{\"messages\": [{\"role\": \"system\", \"content\": \"L'assistente è un chatbot esperto del Festival di Sanremo che fornisce risposte formali e dettagliate.\"}, {\"role\": \"user\", \"content\": \"Quale artista ha vinto il Festival di Sanremo 2024?\"}, {\"role\": \"assistant\", \"content\": \"Angelina Mango è stata la vincitrice del Festival di Sanremo 2024 con il brano 'La noia'.\"}]}\n",
            "{\"messages\": [{\"role\": \"system\", \"content\": \"L'assistente è un chatbot esperto del Festival di Sanremo che fornisce risposte formali e dettagliate.\"}, {\"role\": \"user\", \"content\": \"Chi è stato il secondo classificato nel Festival di Sanremo 2024?\"}, {\"role\": \"assistant\", \"content\": \"Il secondo classificato del Festival di Sanremo 2024 è stato Geolier con il brano 'I p' me, tu p' te'.\"}]}\n",
            "{\"messages\": [{\"role\": \"system\", \"content\": \"L'assistente è un chatbot esperto del Festival di Sanremo che fornisce risposte formali e dettagliate.\"}, {\"role\": \"user\", \"content\": \"Quanti artisti hanno partecipato al Festival di Sanremo 2024?\"}, {\"role\": \"assistant\", \"content\": \"Al Festival di Sanremo 2024 hanno partecipato 30 artisti.\"}]}\n",
            "{\"messages\": [{\"role\": \"system\", \"content\": \"L'assistente è un chatbot esperto del Festival di Sanremo che fornisce risposte formali e dettagliate.\"}, {\"role\": \"user\", \"content\": \"Qual è stato il Premio della Critica assegnato nel 2024?\"}, {\"role\": \"assistant\", \"content\": \"Il Premio della Critica 'Mia Martini' del Festival di Sanremo 2024 è stato assegnato a Loredana Bertè.\"}]}\n",
            "{\"messages\": [{\"role\": \"system\", \"content\": \"L'assistente è un chatbot esperto del Festival di Sanremo che fornisce risposte formali e dettagliate.\"}, {\"role\": \"user\", \"content\": \"Quando e dove si è svolto il Festival di Sanremo 2024?\"}, {\"role\": \"assistant\", \"content\": \"Il Festival di Sanremo 2024 si è svolto al Teatro Ariston di Sanremo dal 6 al 10 febbraio 2024.\"}]}\n",
            "{\"messages\": [{\"role\": \"system\", \"content\": \"L'assistente è un chatbot esperto del Festival di Sanremo che fornisce risposte formali e dettagliate.\"}, {\"role\": \"user\", \"content\": \"Qual è stata la media share del Festival di Sanremo 2024?\"}, {\"role\": \"assistant\", \"content\": \"La media share del Festival di Sanremo 2024 è stata del 65,44%.\"}]}\n",
            "{\"messages\": [{\"role\": \"system\", \"content\": \"L'assistente è un chatbot esperto del Festival di Sanremo che fornisce risposte formali e dettagliate.\"}, {\"role\": \"user\", \"content\": \"Chi hanno coadiuvato Amadeus durante il Festival di Sanremo 2024?\"}, {\"role\": \"assistant\", \"content\": \"Amadeus è stato affiancato da vari co-conduttori: Marco Mengoni nella prima serata, Giorgia nella seconda, Teresa Mannino nella terza, Lorella Cuccarini nella quarta e Fiorello nella serata finale.\"}]}\n",
            "{\"messages\": [{\"role\": \"system\", \"content\": \"L'assistente è un chatbot esperto del Festival di Sanremo che fornisce risposte formali e dettagliate.\"}, {\"role\": \"user\", \"content\": \"Qual è stata la canzone vincitrice del Festival di Sanremo 2024?\"}, {\"role\": \"assistant\", \"content\": \"La canzone vincitrice del Festival di Sanremo 2024 è 'La noia' di Angelina Mango.\"}]}\n",
            "{\"messages\": [{\"role\": \"system\", \"content\": \"L'assistente è un chatbot esperto del Festival di Sanremo che fornisce risposte formali e dettagliate.\"}, {\"role\": \"user\", \"content\": \"Come è stata votata la finale del Festival di Sanremo 2024?\"}, {\"role\": \"assistant\", \"content\": \"La finale del Festival di Sanremo 2024 è stata votata tramite televoto dal pubblico a casa, oltre ai voti della giuria della sala stampa e della giuria delle radio, con pesi specifici per ogni componente.\"}]}\n",
            "{\"messages\": [{\"role\": \"system\", \"content\": \"L'assistente è un chatbot esperto del Festival di Sanremo che fornisce risposte formali e dettagliate.\"}, {\"role\": \"user\", \"content\": \"Quale artista ha rappresentato l'Italia all'Eurovision 2024?\"}, {\"role\": \"assistant\", \"content\": \"Angelina Mango, vincitrice del Festival di Sanremo 2024 con il brano 'La noia', ha rappresentato l'Italia all'Eurovision Song Contest 2024.\"}]}\n",
            "{\"messages\": [{\"role\": \"system\", \"content\": \"L'assistente è un chatbot esperto del Festival di Sanremo che fornisce risposte formali e dettagliate.\"}, {\"role\": \"user\", \"content\": \"Chi è il maestro dell'orchestra al Festival di Sanremo 2024?\"}, {\"role\": \"assistant\", \"content\": \"L'orchestra del Festival di Sanremo 2024 è stata diretta dal maestro Leonardo De Amicis.\"}]}\n",
            "{\"messages\": [{\"role\": \"system\", \"content\": \"L'assistente è un chatbot esperto del Festival di Sanremo che fornisce risposte formali e dettagliate.\"}, {\"role\": \"user\", \"content\": \"Quanti artisti emergenti hanno partecipato al Festival di Sanremo 2024?\"}, {\"role\": \"assistant\", \"content\": \"Tra i 30 artisti partecipanti al Festival di Sanremo 2024, 3 provengono dal concorso Sanremo Giovani 2023.\"}]}\n",
            "{\"messages\": [{\"role\": \"system\", \"content\": \"L'assistente è un chatbot esperto del Festival di Sanremo che fornisce risposte formali e dettagliate.\"}, {\"role\": \"user\", \"content\": \"Cosa distingue il Festival di Sanremo 2024 da precedenti edizioni?\"}, {\"role\": \"assistant\", \"content\": \"Il Festival di Sanremo 2024 si è distinto per l'assenza di una scalinata centrale, sostituita da due scalinate laterali e per la scenografia ispirata a un'orchidea. Inoltre, l'evento ha registrato una media di share del 65,44%, simile al Festival del 1995.\"}]}\n",
            "{\"messages\": [{\"role\": \"system\", \"content\": \"L'assistente è un chatbot esperto del Festival di Sanremo che fornisce risposte formali e dettagliate.\"}, {\"role\": \"user\", \"content\": \"Quanti ascoltatori ha avuto il Festival di Sanremo 2024?\"}, {\"role\": \"assistant\", \"content\": \"Il Festival di Sanremo 2024 ha registrato un totale di 11.423.400 spettatori.\"}]}\n",
            "{\"messages\": [{\"role\": \"system\", \"content\": \"L'assistente è un chatbot esperto del Festival di Sanremo che fornisce risposte formali e dettagliate.\"}, {\"role\": \"user\", \"content\": \"Qual è stata la programmazione del Festival di Sanremo 2024?\"}, {\"role\": \"assistant\", \"content\": \"Il Festival di Sanremo 2024 si è svolto su cinque serate, dal 6 al 10 febbraio, con varie esibizioni di artisti in gara, votazioni e ospiti.\"}]}\n",
            "{\"messages\": [{\"role\": \"system\", \"content\": \"L'assistente è un chatbot esperto del Festival di Sanremo che fornisce risposte formali e dettagliate.\"}, {\"role\": \"user\", \"content\": \"Quali premi sono stati assegnati durante il Festival di Sanremo 2024?\"}, {\"role\": \"assistant\", \"content\": \"Tra i premi assegnati al Festival di Sanremo 2024, vi sono il Premio della Critica 'Mia Martini' a Loredana Bertè, il Premio 'Sergio Bardotti' per il miglior testo a Fiorella Mannoia, e il Premio 'Giancarlo Bigazzi' per la miglior composizione musicale a Angelina Mango.\"}]}\n",
            "{\"messages\": [{\"role\": \"system\", \"content\": \"L'assistente è un chatbot esperto del Festival di Sanremo che fornisce risposte formali e dettagliate.\"}, {\"role\": \"user\", \"content\": \"Quando si è svolto il Festival di Sanremo 2024?\"}, {\"role\": \"assistant\", \"content\": \"Il settantaquattresimo Festival di Sanremo si è svolto dal 6 al 10 febbraio 2024.\"}]}\n",
            "{\"messages\": [{\"role\": \"system\", \"content\": \"L'assistente è un chatbot esperto del Festival di Sanremo che fornisce risposte formali e dettagliate.\"}, {\"role\": \"user\", \"content\": \"Chi ha presentato il Festival di Sanremo 2024?\"}, {\"role\": \"assistant\", \"content\": \"Il Festival di Sanremo 2024 è stato presentato da Amadeus, affiancato da vari co-conduttori tra cui Marco Mengoni, Giorgia, Teresa Mannino, Lorella Cuccarini e Fiorello.\"}]}\n",
            "{\"messages\": [{\"role\": \"system\", \"content\": \"L'assistente è un chatbot esperto del Festival di Sanremo che fornisce risposte formali e dettagliate.\"}, {\"role\": \"user\", \"content\": \"Qual è stato il titolo del brano vincitore del Festival di Sanremo 2024?\"}, {\"role\": \"assistant\", \"content\": \"Il brano vincitore del Festival di Sanremo 2024 è 'La noia' di Angelina Mango.\"}]}\n",
            "{\"messages\": [{\"role\": \"system\", \"content\": \"L'assistente è un chatbot esperto del Festival di Sanremo che fornisce risposte formali e dettagliate.\"}, {\"role\": \"user\", \"content\": \"Chi è stato il secondo classificato del Festival di Sanremo 2024?\"}, {\"role\": \"assistant\", \"content\": \"Il secondo classificato del Festival di Sanremo 2024 è stato Geolier con il brano 'I p' me, tu p' te'.\"}]}\n",
            "{\"messages\": [{\"role\": \"system\", \"content\": \"L'assistente è un chatbot esperto del Festival di Sanremo che fornisce risposte formali e dettagliate.\"}, {\"role\": \"user\", \"content\": \"Qual è stata la media di share del Festival di Sanremo 2024?\"}, {\"role\": \"assistant\", \"content\": \"Il Festival di Sanremo 2024 ha registrato una media di share del 65,44%.\"}]}\n",
            "{\"messages\": [{\"role\": \"system\", \"content\": \"L'assistente è un chatbot esperto del Festival di Sanremo che fornisce risposte formali e dettagliate.\"}, {\"role\": \"user\", \"content\": \"Quali artisti hanno partecipato al concorso Sanremo Giovani 2023?\"}, {\"role\": \"assistant\", \"content\": \"I primi tre classificati del concorso Sanremo Giovani 2023 hanno partecipato al Festival di Sanremo 2024.\"}]}\n",
            "{\"messages\": [{\"role\": \"system\", \"content\": \"L'assistente è un chatbot esperto del Festival di Sanremo che fornisce risposte formali e dettagliate.\"}, {\"role\": \"user\", \"content\": \"Chi ha vinto il Premio della Critica al Festival di Sanremo 2024?\"}, {\"role\": \"assistant\", \"content\": \"Il Premio della Critica 'Mia Martini' del Festival di Sanremo 2024 è stato assegnato a Loredana Bertè.\"}]}\n",
            "{\"messages\": [{\"role\": \"system\", \"content\": \"L'assistente è un chatbot esperto del Festival di Sanremo che fornisce risposte formali e dettagliate.\"}, {\"role\": \"user\", \"content\": \"Quali sono stati i co-conduttori del Festival di Sanremo 2024?\"}, {\"role\": \"assistant\", \"content\": \"I co-conduttori del Festival di Sanremo 2024 sono stati Marco Mengoni, Giorgia, Teresa Mannino, Lorella Cuccarini e Fiorello.\"}]}\n",
            "{\"messages\": [{\"role\": \"system\", \"content\": \"L'assistente è un chatbot esperto del Festival di Sanremo che fornisce risposte formali e dettagliate.\"}, {\"role\": \"user\", \"content\": \"Come è stata la scenografia del Festival di Sanremo 2024?\"}, {\"role\": \"assistant\", \"content\": \"La scenografia del Festival di Sanremo 2024 è stata curata da Gaetano e Maria Chiara Castelli e si è ispirata a forme curve, simili a quelle di un'orchidea.\"}]}\n",
            "{\"messages\": [{\"role\": \"system\", \"content\": \"L'assistente è un chatbot esperto del Festival di Sanremo che fornisce risposte formali e dettagliate.\"}, {\"role\": \"user\", \"content\": \"Chi erano gli ospiti speciali del Festival di Sanremo 2024?\"}, {\"role\": \"assistant\", \"content\": \"Tra gli ospiti speciali del Festival di Sanremo 2024 si annoverano John Travolta, Zlatan Ibrahimović, Eros Ramazzotti e Giovanni Allevi.\"}]}\n",
            "{\"messages\": [{\"role\": \"system\", \"content\": \"L'assistente è un chatbot esperto del Festival di Sanremo che fornisce risposte formali e dettagliate.\"}, {\"role\": \"user\", \"content\": \"Quanti artisti hanno partecipato al Festival di Sanremo 2024?\"}, {\"role\": \"assistant\", \"content\": \"Al Festival di Sanremo 2024 hanno partecipato 30 artisti.\"}]}\n",
            "{\"messages\": [{\"role\": \"system\", \"content\": \"L'assistente è un chatbot esperto del Festival di Sanremo che fornisce risposte formali e dettagliate.\"}, {\"role\": \"user\", \"content\": \"Qual è il brano di Angelina Mango che ha vinto il Festival di Sanremo 2024?\"}, {\"role\": \"assistant\", \"content\": \"Il brano con il quale Angelina Mango ha vinto il Festival di Sanremo 2024 è 'La noia'.\"}]}\n",
            "{\"messages\": [{\"role\": \"system\", \"content\": \"L'assistente è un chatbot esperto del Festival di Sanremo che fornisce risposte formali e dettagliate.\"}, {\"role\": \"user\", \"content\": \"Chi ha diretto l'orchestra durante il Festival di Sanremo 2024?\"}, {\"role\": \"assistant\", \"content\": \"L'orchestra del Festival di Sanremo 2024 è stata diretta dal maestro Leonardo De Amicis.\"}]}\n",
            "{\"messages\": [{\"role\": \"system\", \"content\": \"L'assistente è un chatbot esperto del Festival di Sanremo che fornisce risposte formali e dettagliate.\"}, {\"role\": \"user\", \"content\": \"Quali sono stati i primi cinque classificati al Festival di Sanremo 2024?\"}, {\"role\": \"assistant\", \"content\": \"I primi cinque classificati al Festival di Sanremo 2024 sono stati: 1. Angelina Mango - 'La noia', 2. Geolier - 'I p' me, tu p' te', 3. Annalisa - 'Sinceramente', 4. Ghali - 'Casa mia' e 5. Irama - 'Tu no'.\"}]}\n",
            "{\"messages\": [{\"role\": \"system\", \"content\": \"L'assistente è un chatbot esperto del Festival di Sanremo che fornisce risposte formali e dettagliate.\"}, {\"role\": \"user\", \"content\": \"Quando e come si vota durante il Festival di Sanremo?\"}, {\"role\": \"assistant\", \"content\": \"Durante il Festival di Sanremo, la votazione avviene attraverso il televoto, la giuria della sala stampa e la giuria delle radio. Ogni serata impiega una combinazione di questi tre metodi per stabilire le classifiche.\"}]}\n",
            "{\"messages\": [{\"role\": \"system\", \"content\": \"L'assistente è un chatbot esperto del Festival di Sanremo che fornisce risposte formali e dettagliate.\"}, {\"role\": \"user\", \"content\": \"Chi ha vinto il Premio 'Sergio Bardotti' per il miglior testo nel 2024?\"}, {\"role\": \"assistant\", \"content\": \"Il Premio 'Sergio Bardotti' per il miglior testo del Festival di Sanremo 2024 è stato assegnato a Fiorella Mannoia per il brano 'Mariposa'.\"}]}\n",
            "{\"messages\": [{\"role\": \"system\", \"content\": \"L'assistente è un chatbot esperto del Festival di Sanremo che fornisce risposte formali e dettagliate.\"}, {\"role\": \"user\", \"content\": \"Quale edizione del Festival di Sanremo si è svolta nel 2024?\"}, {\"role\": \"assistant\", \"content\": \"Nel 2024 si è svolto il settantaquattresimo Festival di Sanremo.\"}]}\n",
            "{\"messages\": [{\"role\": \"system\", \"content\": \"L'assistente è un chatbot esperto del Festival di Sanremo che fornisce risposte formali e dettagliate.\"}, {\"role\": \"user\", \"content\": \"Quando si è svolto il Festival di Sanremo 2024?\"}, {\"role\": \"assistant\", \"content\": \"Il Festival di Sanremo 2024 si è svolto dal 6 al 10 febbraio 2024.\"}]}\n",
            "{\"messages\": [{\"role\": \"system\", \"content\": \"L'assistente è un chatbot esperto del Festival di Sanremo che fornisce risposte formali e dettagliate.\"}, {\"role\": \"user\", \"content\": \"Chi ha condotto il Festival di Sanremo 2024?\"}, {\"role\": \"assistant\", \"content\": \"Il Festival di Sanremo 2024 è stato condotto da Amadeus, con vari co-conduttori tra cui Marco Mengoni, Giorgia, Teresa Mannino, Lorella Cuccarini e Fiorello.\"}]}\n",
            "{\"messages\": [{\"role\": \"system\", \"content\": \"L'assistente è un chatbot esperto del Festival di Sanremo che fornisce risposte formali e dettagliate.\"}, {\"role\": \"user\", \"content\": \"Quali sono stati i premi assegnati durante il Festival di Sanremo 2024?\"}, {\"role\": \"assistant\", \"content\": \"Durante il Festival di Sanremo 2024 sono stati assegnati diversi premi, tra cui il Premio della Critica 'Mia Martini' a Loredana Bertè, il Premio 'Sergio Bardotti' per il miglior testo a Fiorella Mannoia e il Premio 'Lucio Dalla' alla miglior canzone della sala stampa a Angelina Mango.\"}]}\n",
            "{\"messages\": [{\"role\": \"system\", \"content\": \"L'assistente è un chatbot esperto del Festival di Sanremo che fornisce risposte formali e dettagliate.\"}, {\"role\": \"user\", \"content\": \"Chi è l'artista che ha rappresentato l'Italia all'Eurovision Song Contest 2024?\"}, {\"role\": \"assistant\", \"content\": \"L'artista che ha rappresentato l'Italia all'Eurovision Song Contest 2024 è stata Angelina Mango con il brano 'La noia'.\"}]}\n",
            "{\"messages\": [{\"role\": \"system\", \"content\": \"L'assistente è un chatbot esperto del Festival di Sanremo che fornisce risposte formali e dettagliate.\"}, {\"role\": \"user\", \"content\": \"Quanti artisti hanno partecipato al Festival di Sanremo 2024?\"}, {\"role\": \"assistant\", \"content\": \"Al Festival di Sanremo 2024 hanno partecipato un totale di 30 artisti.\"}]}\n",
            "{\"messages\": [{\"role\": \"system\", \"content\": \"L'assistente è un chatbot esperto del Festival di Sanremo che fornisce risposte formali e dettagliate.\"}, {\"role\": \"user\", \"content\": \"Qual è stata la canzone vincitrice del Festival di Sanremo 2024?\"}, {\"role\": \"assistant\", \"content\": \"La canzone vincitrice del Festival di Sanremo 2024 è stata 'La noia' di Angelina Mango.\"}]}\n",
            "{\"messages\": [{\"role\": \"system\", \"content\": \"L'assistente è un chatbot esperto del Festival di Sanremo che fornisce risposte formali e dettagliate.\"}, {\"role\": \"user\", \"content\": \"Qual è stata la media di ascolti del Festival di Sanremo 2024?\"}, {\"role\": \"assistant\", \"content\": \"La media di ascolti del Festival di Sanremo 2024 è stata di 11.423.400 spettatori, con una share del 65,44%.\"}]}\n",
            "{\"messages\": [{\"role\": \"system\", \"content\": \"L'assistente è un chatbot esperto del Festival di Sanremo che fornisce risposte formali e dettagliate.\"}, {\"role\": \"user\", \"content\": \"Chi ha ottenuto il secondo e il terzo posto al Festival di Sanremo 2024?\"}, {\"role\": \"assistant\", \"content\": \"Il secondo posto al Festival di Sanremo 2024 è stato ottenuto da Geolier con il brano 'I p' me, tu p' te', mentre il terzo posto è andato ad Annalisa con 'Sinceramente'.\"}]}\n",
            "{\"messages\": [{\"role\": \"system\", \"content\": \"L'assistente è un chatbot esperto del Festival di Sanremo che fornisce risposte formali e dettagliate.\"}, {\"role\": \"user\", \"content\": \"Qual è stata la canzone più ascoltata su Spotify durante il Festival di Sanremo 2024?\"}, {\"role\": \"assistant\", \"content\": \"Durante il Festival di Sanremo 2024, il brano più ascoltato su Spotify è stato 'Sinceramente' di Annalisa.\"}]}\n",
            "{\"messages\": [{\"role\": \"system\", \"content\": \"L'assistente è un chatbot esperto del Festival di Sanremo che fornisce risposte formali e dettagliate.\"}, {\"role\": \"user\", \"content\": \"Come è stata strutturata la giuria al Festival di Sanremo 2024?\"}, {\"role\": \"assistant\", \"content\": \"La giuria del Festival di Sanremo 2024 è stata composta da tre sezioni: la Giuria della sala stampa (33%), la Giuria delle radio (33%) e il pubblico a casa tramite televoto (34%). Questa ripartizione ha influito sulla formazione della classifica finale.\"}]}\n",
            "{\"messages\": [{\"role\": \"system\", \"content\": \"L'assistente è un chatbot esperto del Festival di Sanremo che fornisce risposte formali e dettagliate.\"}, {\"role\": \"user\", \"content\": \"Chi sono stati gli ospiti del Festival di Sanremo 2024?\"}, {\"role\": \"assistant\", \"content\": \"Tra gli ospiti del Festival di Sanremo 2024 ci sono stati John Travolta, Eros Ramazzotti, e la Fanfara del quarto reggimento a cavallo dell'Arma dei Carabinieri.\"}]}\n",
            "{\"messages\": [{\"role\": \"system\", \"content\": \"L'assistente è un chatbot esperto del Festival di Sanremo che fornisce risposte formali e dettagliate.\"}, {\"role\": \"user\", \"content\": \"Qual è stata l'unicità della scenografia del Festival di Sanremo 2024?\"}, {\"role\": \"assistant\", \"content\": \"La scenografia del Festival di Sanremo 2024 è stata caratterizzata da forme curve ispirate a un'orchidea e dall'assenza di una scalinata centrale, sostituita da due scalinate laterali.\"}]}\n",
            "{\"messages\": [{\"role\": \"system\", \"content\": \"L'assistente è un chatbot esperto del Festival di Sanremo che fornisce risposte formali e dettagliate.\"}, {\"role\": \"user\", \"content\": \"Come è stato valutato il Festival di Sanremo 2024 dal pubblico?\"}, {\"role\": \"assistant\", \"content\": \"Il Festival di Sanremo 2024 è stato molto ben accolto dal pubblico, registrando un ascolto medio di 11.423.400 spettatori con una share del 65,44%, comparabile a edizioni storiche come quella del 1995.\"}]}\n",
            "{\"messages\": [{\"role\": \"system\", \"content\": \"L'assistente è un chatbot esperto del Festival di Sanremo che fornisce risposte formali e dettagliate.\"}, {\"role\": \"user\", \"content\": \"Cosa rappresenta il premio 'Mia Martini' e chi lo ha vinto nel 2024?\"}, {\"role\": \"assistant\", \"content\": \"Il premio 'Mia Martini' viene assegnato alla canzone che ha ricevuto il maggior riconoscimento dalla critica e nel 2024 è andato a Loredana Bertè per il brano 'Pazza'.\"}]}\n",
            "{\"messages\": [{\"role\": \"system\", \"content\": \"L'assistente è un chatbot esperto del Festival di Sanremo che fornisce risposte formali e dettagliate.\"}, {\"role\": \"user\", \"content\": \"Quando è iniziato il PrimaFestival nel 2024?\"}, {\"role\": \"assistant\", \"content\": \"Il PrimaFestival 2024 è iniziato il 3 febbraio e si è concluso il 10 febbraio, trasmettendo anticipazioni e commenti sull'evento.\"}]}\n",
            "{\"messages\": [{\"role\": \"system\", \"content\": \"L'assistente è un chatbot esperto del Festival di Sanremo che fornisce risposte formali e dettagliate.\"}, {\"role\": \"user\", \"content\": \"Qual è stata la partecipazione di Sanremo Giovani al Festival di Sanremo 2024?\"}, {\"role\": \"assistant\", \"content\": \"Al Festival di Sanremo 2024, tre artisti della competizione Sanremo Giovani hanno avuto l'opportunità di partecipare, presentando brani inediti.\"}]}\n",
            "{\"messages\": [{\"role\": \"system\", \"content\": \"L'assistente è un chatbot esperto del Festival di Sanremo che fornisce risposte formali e dettagliate.\"}, {\"role\": \"user\", \"content\": \"Come sono stati scelti gli artisti in gara per il Festival di Sanremo 2024?\"}, {\"role\": \"assistant\", \"content\": \"Gli artisti in gara al Festival di Sanremo 2024 sono stati selezionati attraverso una commissione musicale che ha esaminato i partecipanti di Sanremo Giovani 2023 insieme a contendenti di chiara fama.\"}]}\n",
            "{\"messages\": [{\"role\": \"system\", \"content\": \"L'assistente è un chatbot esperto del Festival di Sanremo che fornisce risposte formali e dettagliate.\"}, {\"role\": \"user\", \"content\": \"Qual è stata la caratteristica distintiva della regia del Festival di Sanremo 2024?\"}, {\"role\": \"assistant\", \"content\": \"La regia del Festival di Sanremo 2024 è stata diretta da Stefano Vicario, già noto per le sue innovative soluzioni visive, che hanno aggiunto un tocco moderno all'evento.\"}]}\n",
            "{\"messages\": [{\"role\": \"system\", \"content\": \"L'assistente è un chatbot esperto del Festival di Sanremo che fornisce risposte formali e dettagliate.\"}, {\"role\": \"user\", \"content\": \"Chi ha vinto il Premio 'Giancarlo Bigazzi' alla miglior composizione musicale nel 2024?\"}, {\"role\": \"assistant\", \"content\": \"Il Premio 'Giancarlo Bigazzi' alla miglior composizione musicale nel 2024 è stato assegnato ad Angelina Mango per il brano 'La noia'.\"}]}\n",
            "{\"messages\": [{\"role\": \"system\", \"content\": \"L'assistente è un chatbot esperto del Festival di Sanremo che fornisce risposte formali e dettagliate.\"}, {\"role\": \"user\", \"content\": \"Quando si è tenuto il Festival di Sanremo 2024?\"}, {\"role\": \"assistant\", \"content\": \"Il Festival di Sanremo 2024 si è svolto dal 6 al 10 febbraio 2024.\"}]}\n",
            "{\"messages\": [{\"role\": \"system\", \"content\": \"L'assistente è un chatbot esperto del Festival di Sanremo che fornisce risposte formali e dettagliate.\"}, {\"role\": \"user\", \"content\": \"Chi ha condotto il Festival di Sanremo 2024?\"}, {\"role\": \"assistant\", \"content\": \"Il Festival di Sanremo 2024 è stato condotto da Amadeus, che ha rivestito anche il ruolo di direttore artistico. Nel corso delle serate, ha avuto vari co-conduttori tra cui Marco Mengoni, Giorgia, e Fiorello.\"}]}\n",
            "{\"messages\": [{\"role\": \"system\", \"content\": \"L'assistente è un chatbot esperto del Festival di Sanremo che fornisce risposte formali e dettagliate.\"}, {\"role\": \"user\", \"content\": \"Qual è stata la canzone vincitrice del Festival di Sanremo 2024?\"}, {\"role\": \"assistant\", \"content\": \"La canzone vincitrice del Festival di Sanremo 2024 è stata 'La noia' di Angelina Mango.\"}]}\n",
            "{\"messages\": [{\"role\": \"system\", \"content\": \"L'assistente è un chatbot esperto del Festival di Sanremo che fornisce risposte formali e dettagliate.\"}, {\"role\": \"user\", \"content\": \"Quanti artisti hanno partecipato al Festival di Sanremo 2024?\"}, {\"role\": \"assistant\", \"content\": \"Al Festival di Sanremo 2024 hanno partecipato un totale di 30 artisti in gara.\"}]}\n",
            "{\"messages\": [{\"role\": \"system\", \"content\": \"L'assistente è un chatbot esperto del Festival di Sanremo che fornisce risposte formali e dettagliate.\"}, {\"role\": \"user\", \"content\": \"Chi ha ricevuto il Premio della Critica nel 2024?\"}, {\"role\": \"assistant\", \"content\": \"Il Premio della Critica 'Mia Martini' è stato assegnato a Loredana Bertè per il brano 'Pazza'.\"}]}\n",
            "{\"messages\": [{\"role\": \"system\", \"content\": \"L'assistente è un chatbot esperto del Festival di Sanremo che fornisce risposte formali e dettagliate.\"}, {\"role\": \"user\", \"content\": \"Qual è stato l'incasso televisivo del Festival di Sanremo 2024?\"}, {\"role\": \"assistant\", \"content\": \"Il Festival di Sanremo 2024 ha registrato una media del 65,44% di share, con picchi di audience che ripercorrono i dati del Festival del 1995.\"}]}\n",
            "{\"messages\": [{\"role\": \"system\", \"content\": \"L'assistente è un chatbot esperto del Festival di Sanremo che fornisce risposte formali e dettagliate.\"}, {\"role\": \"user\", \"content\": \"Qual è stato il risultato di Angelina Mango all'Eurovision Song Contest 2024?\"}, {\"role\": \"assistant\", \"content\": \"Angelina Mango, vincitrice del Festival di Sanremo 2024 con 'La noia', ha rappresentato l'Italia all'Eurovision Song Contest 2024, terminando al settimo posto.\"}]}\n",
            "{\"messages\": [{\"role\": \"system\", \"content\": \"L'assistente è un chatbot esperto del Festival di Sanremo che fornisce risposte formali e dettagliate.\"}, {\"role\": \"user\", \"content\": \"Quando sono stati annunciati i partecipanti al Festival di Sanremo 2024?\"}, {\"role\": \"assistant\", \"content\": \"I partecipanti al Festival di Sanremo 2024 sono stati annunciati il 3 dicembre 2023.\"}]}\n",
            "{\"messages\": [{\"role\": \"system\", \"content\": \"L'assistente è un chatbot esperto del Festival di Sanremo che fornisce risposte formali e dettagliate.\"}, {\"role\": \"user\", \"content\": \"Quali sono stati i co-conduttori del Festival di Sanremo 2024?\"}, {\"role\": \"assistant\", \"content\": \"I co-conduttori del Festival di Sanremo 2024 hanno incluso Marco Mengoni, Giorgia, Teresa Mannino, Lorella Cuccarini e Fiorello.\"}]}\n",
            "{\"messages\": [{\"role\": \"system\", \"content\": \"L'assistente è un chatbot esperto del Festival di Sanremo che fornisce risposte formali e dettagliate.\"}, {\"role\": \"user\", \"content\": \"Quali sono stati gli ospiti speciali al Festival di Sanremo 2024?\"}, {\"role\": \"assistant\", \"content\": \"Tra gli ospiti speciali del Festival di Sanremo 2024 si sono esibiti John Travolta, Zlatan Ibrahimović e Giovanni Allevi.\"}]}\n",
            "{\"messages\": [{\"role\": \"system\", \"content\": \"L'assistente è un chatbot esperto del Festival di Sanremo che fornisce risposte formali e dettagliate.\"}, {\"role\": \"user\", \"content\": \"Qual è stato il miglior testo del Festival di Sanremo 2024?\"}, {\"role\": \"assistant\", \"content\": \"Il premio 'Sergio Bardotti' per il miglior testo è stato assegnato a Fiorella Mannoia per la canzone 'Mariposa'.\"}]}\n",
            "{\"messages\": [{\"role\": \"system\", \"content\": \"L'assistente è un chatbot esperto del Festival di Sanremo che fornisce risposte formali e dettagliate.\"}, {\"role\": \"user\", \"content\": \"Chi è stato il vincitore della serata cover nel Festival di Sanremo 2024?\"}, {\"role\": \"assistant\", \"content\": \"Il vincitore della serata cover del Festival di Sanremo 2024 è stato Geolier.\"}]}\n",
            "{\"messages\": [{\"role\": \"system\", \"content\": \"L'assistente è un chatbot esperto del Festival di Sanremo che fornisce risposte formali e dettagliate.\"}, {\"role\": \"user\", \"content\": \"Qual è stato il nuovo formato del Festival di Sanremo 2024 rispetto ad altri anni?\"}, {\"role\": \"assistant\", \"content\": \"Nel Festival di Sanremo 2024, la maggiore novità è stata l'assenza di una scalinata centrale, sostituita da due scalinate laterali, con elementi scenografici più moderni e dinamici.\"}]}\n",
            "{\"messages\": [{\"role\": \"system\", \"content\": \"L'assistente è un chatbot esperto del Festival di Sanremo che fornisce risposte formali e dettagliate.\"}, {\"role\": \"user\", \"content\": \"Quando è avvenuto il televoto al Festival di Sanremo 2024?\"}, {\"role\": \"assistant\", \"content\": \"Il televoto ha avuto luogo durante tutte le serate del Festival di Sanremo 2024, determinando la posizione finale dei partecipanti.\"}]}\n",
            "{\"messages\": [{\"role\": \"system\", \"content\": \"L'assistente è un chatbot esperto del Festival di Sanremo che fornisce risposte formali e dettagliate.\"}, {\"role\": \"user\", \"content\": \"Quali sono stati i canali di trasmissione del Festival di Sanremo 2024?\"}, {\"role\": \"assistant\", \"content\": \"Il Festival di Sanremo 2024 è stato trasmesso su Rai 1, Rai 4K, Rai Radio 2, RaiPlay ed Eurovisione.\"}]}\n",
            "{\"messages\": [{\"role\": \"system\", \"content\": \"L'assistente è un chatbot esperto del Festival di Sanremo che fornisce risposte formali e dettagliate.\"}, {\"role\": \"user\", \"content\": \"Chi ha diretto l'orchestra nel Festival di Sanremo 2024?\"}, {\"role\": \"assistant\", \"content\": \"L'orchestra del Festival di Sanremo 2024 è stata diretta dal maestro Leonardo De Amicis.\"}]}\n",
            "{\"messages\": [{\"role\": \"system\", \"content\": \"L'assistente è un chatbot esperto del Festival di Sanremo che fornisce risposte formali e dettagliate.\"}, {\"role\": \"user\", \"content\": \"Quali premi sono stati assegnati durante il Festival di Sanremo 2024?\"}, {\"role\": \"assistant\", \"content\": \"Durante il Festival di Sanremo 2024 sono stati assegnati vari premi, tra cui il Premio della Critica a Loredana Bertè e il Premio 'Sergio Bardotti' a Fiorella Mannoia.\"}]}\n",
            "{\"messages\": [{\"role\": \"system\", \"content\": \"L'assistente è un chatbot esperto del Festival di Sanremo che fornisce risposte formali e dettagliate.\"}, {\"role\": \"user\", \"content\": \"Chi sono stati i giudici del Festival di Sanremo 2024?\"}, {\"role\": \"assistant\", \"content\": \"I giudici del Festival di Sanremo 2024 includevano una giuria di esperti della stampa, una giuria della radio e il pubblico a casa tramite televoto, ciascuna con un peso specifico nelle votazioni.\"}]}\n",
            "\n"
          ]
        }
      ],
      "source": [
        "# Mostrare il dataset\n",
        "\n",
        "with open(output_file, \"r\", encoding=\"utf-8\") as f:\n",
        "        print(f.read())"
      ]
    },
    {
      "cell_type": "markdown",
      "metadata": {
        "id": "ihhrn3HJTexa"
      },
      "source": [
        "# Dataset validation"
      ]
    },
    {
      "cell_type": "code",
      "execution_count": 19,
      "metadata": {
        "colab": {
          "base_uri": "https://localhost:8080/"
        },
        "id": "7f3FJbBGTg8_",
        "outputId": "9c6ea6dd-b647-4b9c-d2f6-7780c2403c3a"
      },
      "outputs": [
        {
          "name": "stdout",
          "output_type": "stream",
          "text": [
            "Num examples: 5\n",
            "First example:\n",
            "{'role': 'system', 'content': \"L'assistente è un chatbot esperto del Festival di Sanremo che fornisce risposte formali e dettagliate.\"}\n",
            "{'role': 'user', 'content': 'Chi ha condotto il Festival di Sanremo 2024?'}\n",
            "{'role': 'assistant', 'content': \"Il Festival di Sanremo 2024 è stato condotto da Amadeus, che ha ricoperto questo ruolo per il quinto anno consecutivo, con l'affiancamento di vari co-conduttori tra cui Marco Mengoni, Giorgia, Teresa Mannino, Lorella Cuccarini e Fiorello.\"}\n",
            "No errors found\n"
          ]
        }
      ],
      "source": [
        "data_path = output_file\n",
        "\n",
        "# Load the dataset\n",
        "with open(data_path, 'r', encoding='utf-8') as f:\n",
        "    dataset = [json.loads(line) for line in f]\n",
        "\n",
        "# Initial dataset stats\n",
        "print(\"Num examples:\", len(dataset))\n",
        "print(\"First example:\")\n",
        "for message in dataset[0][\"messages\"]:\n",
        "    print(message)\n",
        "\n",
        "# Format error checks\n",
        "format_errors = {}\n",
        "\n",
        "for ex in dataset:\n",
        "    if not isinstance(ex, dict):\n",
        "        format_errors[\"data_type\"] += 1\n",
        "        continue\n",
        "\n",
        "    messages = ex.get(\"messages\", None)\n",
        "    if not messages:\n",
        "        format_errors[\"missing_messages_list\"] += 1\n",
        "        continue\n",
        "\n",
        "    for message in messages:\n",
        "        if \"role\" not in message or \"content\" not in message:\n",
        "            format_errors[\"message_missing_key\"] += 1\n",
        "\n",
        "        if any(k not in (\"role\", \"content\", \"name\", \"function_call\", \"weight\") for k in message):\n",
        "            format_errors[\"message_unrecognized_key\"] += 1\n",
        "\n",
        "        if message.get(\"role\", None) not in (\"system\", \"user\", \"assistant\", \"function\"):\n",
        "            format_errors[\"unrecognized_role\"] += 1\n",
        "\n",
        "        content = message.get(\"content\", None)\n",
        "        function_call = message.get(\"function_call\", None)\n",
        "\n",
        "        if (not content and not function_call) or not isinstance(content, str):\n",
        "            format_errors[\"missing_content\"] += 1\n",
        "\n",
        "    if not any(message.get(\"role\", None) == \"assistant\" for message in messages):\n",
        "        format_errors[\"example_missing_assistant_message\"] += 1\n",
        "\n",
        "if format_errors:\n",
        "    print(\"Found errors:\")\n",
        "    for k, v in format_errors.items():\n",
        "        print(f\"{k}: {v}\")\n",
        "else:\n",
        "    print(\"No errors found\")"
      ]
    },
    {
      "cell_type": "markdown",
      "metadata": {
        "id": "VInMJVfWbjJ1"
      },
      "source": [
        "# Cost estimation"
      ]
    },
    {
      "cell_type": "code",
      "execution_count": null,
      "metadata": {
        "colab": {
          "base_uri": "https://localhost:8080/"
        },
        "id": "OjW2wF9vZv_t",
        "outputId": "02b34482-323c-4cc4-ecd2-d0f354fd151d"
      },
      "outputs": [
        {
          "name": "stdout",
          "output_type": "stream",
          "text": [
            "\n",
            "#### Distribution of num_messages_per_example:\n",
            "min / max: 3, 3\n",
            "mean / median: 3.0, 3.0\n",
            "p5 / p95: 3.0, 3.0\n",
            "\n",
            "#### Distribution of num_total_tokens_per_example:\n",
            "min / max: 80, 120\n",
            "mean / median: 93.0, 88.0\n",
            "p5 / p95: 82.8, 108.0\n",
            "\n",
            "0 examples may be over the 65,536 token limit, they will be truncated during fine-tuning\n",
            "Dataset has ~465 tokens that will be charged for during training\n",
            "By default, you'll train for 20 epochs on this dataset\n",
            "By default, you'll be charged for ~9300 tokens\n",
            "https://platform.openai.com/docs/pricing\n",
            "\n",
            "\n",
            "Cost estimation ~ USD 0.028\n"
          ]
        }
      ],
      "source": [
        "import tiktoken\n",
        "import numpy as np\n",
        "from collections import defaultdict\n",
        "\n",
        "encoding = tiktoken.get_encoding(\"cl100k_base\")\n",
        "encoding = tiktoken.encoding_for_model(openai_model)\n",
        "\n",
        "# not exact!\n",
        "# simplified from https://github.com/openai/openai-cookbook/blob/main/examples/How_to_count_tokens_with_tiktoken.ipynb\n",
        "def num_tokens_from_messages(messages, tokens_per_message=3, tokens_per_name=1):\n",
        "    num_tokens = 0\n",
        "    for message in messages:\n",
        "        num_tokens += tokens_per_message\n",
        "        for key, value in message.items():\n",
        "            num_tokens += len(encoding.encode(value))\n",
        "            if key == \"name\":\n",
        "                num_tokens += tokens_per_name\n",
        "    num_tokens += 3\n",
        "    return num_tokens\n",
        "\n",
        "def num_assistant_tokens_from_messages(messages):\n",
        "    num_tokens = 0\n",
        "    for message in messages:\n",
        "        if message[\"role\"] == \"assistant\":\n",
        "            num_tokens += len(encoding.encode(message[\"content\"]))\n",
        "    return num_tokens\n",
        "\n",
        "def print_distribution(values, name):\n",
        "    print(f\"\\n#### Distribution of {name}:\")\n",
        "    print(f\"min / max: {min(values)}, {max(values)}\")\n",
        "    print(f\"mean / median: {np.mean(values)}, {np.median(values)}\")\n",
        "    print(f\"p5 / p95: {np.quantile(values, 0.1)}, {np.quantile(values, 0.9)}\")\n",
        "\n",
        "# Warnings and tokens counts\n",
        "n_missing_system = 0\n",
        "n_missing_user = 0\n",
        "n_messages = []\n",
        "convo_lens = []\n",
        "assistant_message_lens = []\n",
        "\n",
        "for ex in dataset:\n",
        "    messages = ex[\"messages\"]\n",
        "    if not any(message[\"role\"] == \"system\" for message in messages):\n",
        "        n_missing_system += 1\n",
        "    if not any(message[\"role\"] == \"user\" for message in messages):\n",
        "        n_missing_user += 1\n",
        "    n_messages.append(len(messages))\n",
        "    convo_lens.append(num_tokens_from_messages(messages))\n",
        "    assistant_message_lens.append(num_assistant_tokens_from_messages(messages))\n",
        "\n",
        "# print(\"Num examples missing system message:\", n_missing_system)\n",
        "# print(\"Num examples missing user message:\", n_missing_user)\n",
        "print_distribution(n_messages, \"num_messages_per_example\")\n",
        "print_distribution(convo_lens, \"num_total_tokens_per_example\")\n",
        "# print_distribution(assistant_message_lens, \"num_assistant_tokens_per_example\")\n",
        "n_too_long = sum(l > 65536 for l in convo_lens)\n",
        "print(f\"\\n{n_too_long} examples may be over the 65,536 token limit, they will be truncated during fine-tuning\")\n",
        "\n",
        "# Pricing and default n_epochs estimate\n",
        "MAX_TOKENS_PER_EXAMPLE = 65536\n",
        "\n",
        "TARGET_EPOCHS = 3\n",
        "MIN_TARGET_EXAMPLES = 100\n",
        "MAX_TARGET_EXAMPLES = 25000\n",
        "MIN_DEFAULT_EPOCHS = 1\n",
        "MAX_DEFAULT_EPOCHS = 25\n",
        "\n",
        "n_epochs = TARGET_EPOCHS\n",
        "n_train_examples = len(dataset)\n",
        "if n_train_examples * TARGET_EPOCHS < MIN_TARGET_EXAMPLES:\n",
        "    n_epochs = min(MAX_DEFAULT_EPOCHS, MIN_TARGET_EXAMPLES // n_train_examples)\n",
        "elif n_train_examples * TARGET_EPOCHS > MAX_TARGET_EXAMPLES:\n",
        "    n_epochs = max(MIN_DEFAULT_EPOCHS, MAX_TARGET_EXAMPLES // n_train_examples)\n",
        "\n",
        "n_billing_tokens_in_dataset = sum(min(MAX_TOKENS_PER_EXAMPLE, length) for length in convo_lens)\n",
        "print(f\"Dataset has ~{n_billing_tokens_in_dataset} tokens that will be charged for during training\\n\")\n",
        "print(f\"By default, you'll train for {n_epochs} epochs on this dataset\\n\")\n",
        "print(f\"By default, you'll be charged for ~{n_epochs * n_billing_tokens_in_dataset} tokens\")\n",
        "\n",
        "###\n",
        "#  Check https://platform.openai.com/docs/pricing for the most up-to-date pricing information\n",
        "\n",
        "# Estimate costs\n",
        "print(\"https://platform.openai.com/docs/pricing\")\n",
        "gpt_4o_mini_pricing = 3.00 / 1000000  # $3.00 per million tokens\n",
        "cost = (n_epochs * n_billing_tokens_in_dataset) * gpt_4o_mini_pricing\n",
        "\n",
        "print(f\"\\n\\nCost estimation ~ USD {cost:.3f}\")"
      ]
    }
  ],
  "metadata": {
    "colab": {
      "provenance": []
    },
    "kernelspec": {
      "display_name": "Python 3",
      "name": "python3"
    },
    "language_info": {
      "codemirror_mode": {
        "name": "ipython",
        "version": 3
      },
      "file_extension": ".py",
      "mimetype": "text/x-python",
      "name": "python",
      "nbconvert_exporter": "python",
      "pygments_lexer": "ipython3",
      "version": "3.10.6"
    }
  },
  "nbformat": 4,
  "nbformat_minor": 0
}
